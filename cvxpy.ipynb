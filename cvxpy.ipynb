{
 "cells": [
  {
   "cell_type": "code",
   "execution_count": 21,
   "id": "89290f72-b066-42c6-89e7-921f9221b770",
   "metadata": {},
   "outputs": [
    {
     "name": "stdout",
     "output_type": "stream",
     "text": [
      "[-6.39755587e-18 -8.43202002e-18  4.20497258e-19 -1.93725524e-18\n",
      " -5.70938710e-18  1.25673263e-01 -5.76443664e-18 -7.32510730e-19\n",
      "  1.66909960e-01  5.07152051e-01 -4.41980455e-18 -3.20262829e-18\n",
      " -4.28020508e-18  2.00264725e-01 -3.40334378e-18 -1.16929317e-17\n",
      " -6.05430188e-18 -8.09229473e-18 -6.28897713e-18 -1.27713008e-17]\n"
     ]
    }
   ],
   "source": [
    "import cvxpy as cp\n",
    "import numpy as np\n",
    "\n",
    "# Problem data.\n",
    "m = 30\n",
    "n = 20\n",
    "np.random.seed(1)\n",
    "A = np.random.randn(m, n)\n",
    "b = np.random.randn(m)\n",
    "\n",
    "# Construct the problem.\n",
    "x = cp.Variable(n)\n",
    "objective = cp.Minimize(cp.sum_squares(A @ x - b))\n",
    "constraints = [0 <= x, x <= 1, cp.sum(x) == 1]\n",
    "prob = cp.Problem(objective, constraints)\n",
    "\n",
    "# The optimal objective value is returned by `prob.solve()`.\n",
    "result = prob.solve()\n",
    "# The optimal value for x is stored in `x.value`.\n",
    "\n",
    "print(x.value)"
   ]
  },
  {
   "cell_type": "code",
   "execution_count": 4,
   "id": "a5219dac-19d6-42b1-886a-51429247c41c",
   "metadata": {},
   "outputs": [],
   "source": [
    "class ConstrainedRegression:\n",
    "    def __init__(self):\n",
    "        self.constraints = []\n",
    "\n",
    "    def add_constraint(self, x, ge=None, le=None):\n",
    "        if ge:\n",
    "            self.constraints.append((\"ge\", x, ge))\n",
    "        if le:\n",
    "            self.constraints.append((\"le\", x, le))\n",
    "\n",
    "    def fit(self, X, y):\n",
    "        w = cp.Variable(X.shape[1])\n",
    "        b = cp.Variable(1)\n",
    "        objective = cp.Minimize(cp.sum_squares(X @ w + b - y))\n",
    "        self.constraints_ = []\n",
    "        for c in self.constraints:\n",
    "            if c[0] == 'ge':\n",
    "                self.constraints_.append((c[1] @ w + b) >= c[2])\n",
    "            if c[0] == 'le':\n",
    "                self.constraints_.append((c[1] @ w + b) <= c[2])\n",
    "        self.prob_ = cp.Problem(objective, self.constraints_)\n",
    "        self.prob_.solve()\n",
    "        self.coef_ = w.value\n",
    "        self.intercept_ = b.value\n",
    "        return self\n",
    "\n",
    "    def predict(self, X):\n",
    "        return X @ self.coef_ + self.intercept_"
   ]
  },
  {
   "cell_type": "code",
   "execution_count": 5,
   "id": "bdcf0b5f-d10b-49c2-929b-81bc5eb0b83e",
   "metadata": {},
   "outputs": [],
   "source": [
    "from sklearn.datasets import make_regression\n",
    "\n",
    "X, y = make_regression(n_samples=10000, random_state=42)"
   ]
  },
  {
   "cell_type": "code",
   "execution_count": 6,
   "id": "6ffb5e7f-7a96-4282-9246-4468ca312ba8",
   "metadata": {},
   "outputs": [
    {
     "data": {
      "text/plain": [
       "-213.2662757396957"
      ]
     },
     "execution_count": 6,
     "metadata": {},
     "output_type": "execute_result"
    }
   ],
   "source": [
    "y[0]"
   ]
  },
  {
   "cell_type": "code",
   "execution_count": 7,
   "id": "1ad0405c-e6a3-48c3-8abe-a9a7015f7c5f",
   "metadata": {},
   "outputs": [],
   "source": [
    "y[0] += 250"
   ]
  },
  {
   "cell_type": "code",
   "execution_count": 8,
   "id": "9ea8c178-6d11-4ae6-96fd-502ef57893f5",
   "metadata": {},
   "outputs": [],
   "source": [
    "from sklearn.linear_model import LinearRegression\n",
    "\n",
    "lin = LinearRegression().fit(X, y)"
   ]
  },
  {
   "cell_type": "code",
   "execution_count": 9,
   "id": "6964702e-8070-4163-a0b7-10c9d04ff3ab",
   "metadata": {},
   "outputs": [],
   "source": [
    "con = ConstrainedRegression().fit(X, y)"
   ]
  },
  {
   "cell_type": "markdown",
   "id": "c52b7a99-5300-4be2-9c21-8051f66cc4b8",
   "metadata": {},
   "source": [
    "When we do not consider constraints ... the predictions are exactly the same!"
   ]
  },
  {
   "cell_type": "code",
   "execution_count": 10,
   "id": "5f59aa86-52e3-4900-8ba6-68ecb847b0c0",
   "metadata": {},
   "outputs": [
    {
     "data": {
      "text/plain": [
       "array([-210.78479202,  271.9507549 , -292.53195041,   58.16860197,\n",
       "        171.13497985, -128.24130413,   39.81402271,  -75.26708694,\n",
       "       -380.03185675, -245.61790134])"
      ]
     },
     "execution_count": 10,
     "metadata": {},
     "output_type": "execute_result"
    }
   ],
   "source": [
    "lin.predict(X)[:10]"
   ]
  },
  {
   "cell_type": "code",
   "execution_count": 11,
   "id": "e9263912-4bd8-43b4-a2c6-9910c316fc2c",
   "metadata": {},
   "outputs": [
    {
     "data": {
      "text/plain": [
       "array([-210.78479202,  271.9507549 , -292.53195041,   58.16860197,\n",
       "        171.13497985, -128.24130413,   39.81402271,  -75.26708694,\n",
       "       -380.03185675, -245.61790134])"
      ]
     },
     "execution_count": 11,
     "metadata": {},
     "output_type": "execute_result"
    }
   ],
   "source": [
    "con.predict(X)[:10]"
   ]
  },
  {
   "cell_type": "code",
   "execution_count": 12,
   "id": "260fa3c8-8aae-4d0d-a0fb-c3c6a0c24c0f",
   "metadata": {},
   "outputs": [
    {
     "data": {
      "text/plain": [
       "(array([ 0.04116305, -0.00527586,  0.00994886,  0.00997819, -0.05529895,\n",
       "        -0.02320834,  0.01363836, -0.04392767, -0.01102636, -0.01395106]),\n",
       " 0.025091612969682764)"
      ]
     },
     "execution_count": 12,
     "metadata": {},
     "output_type": "execute_result"
    }
   ],
   "source": [
    "lin.coef_[:10], lin.intercept_"
   ]
  },
  {
   "cell_type": "code",
   "execution_count": 13,
   "id": "735eda15-b4c7-4517-ad91-0b83230d6398",
   "metadata": {},
   "outputs": [
    {
     "data": {
      "text/plain": [
       "(array([ 0.04116305, -0.00527586,  0.00994886,  0.00997819, -0.05529895,\n",
       "        -0.02320834,  0.01363836, -0.04392767, -0.01102636, -0.01395106]),\n",
       " array([0.02509161]))"
      ]
     },
     "execution_count": 13,
     "metadata": {},
     "output_type": "execute_result"
    }
   ],
   "source": [
    "con.coef_[:10], con.intercept_"
   ]
  },
  {
   "cell_type": "markdown",
   "id": "137388ab-a4ec-426f-af19-5faf88ba60b9",
   "metadata": {},
   "source": [
    "But lets now say that that first prediction is actually super duper important."
   ]
  },
  {
   "cell_type": "code",
   "execution_count": 14,
   "id": "3f2ce80c-6331-4768-8631-4222c47be709",
   "metadata": {},
   "outputs": [
    {
     "data": {
      "text/plain": [
       "36.733724260304314"
      ]
     },
     "execution_count": 14,
     "metadata": {},
     "output_type": "execute_result"
    }
   ],
   "source": [
    "y[0]"
   ]
  },
  {
   "cell_type": "code",
   "execution_count": 15,
   "id": "d953de18-5013-4b70-af8e-a85912dc35ff",
   "metadata": {},
   "outputs": [],
   "source": [
    "con = ConstrainedRegression()\n",
    "con.add_constraint(X[0], le=50, ge=30)"
   ]
  },
  {
   "cell_type": "code",
   "execution_count": 16,
   "id": "40cbeec3-9b68-40e9-baf5-c1b69b79cafc",
   "metadata": {},
   "outputs": [
    {
     "data": {
      "text/plain": [
       "<__main__.ConstrainedRegression at 0x177747e90>"
      ]
     },
     "execution_count": 16,
     "metadata": {},
     "output_type": "execute_result"
    }
   ],
   "source": [
    "con.fit(X, y)"
   ]
  },
  {
   "cell_type": "code",
   "execution_count": 17,
   "id": "984c8012-dcc5-4e91-8bbb-d38a946068d6",
   "metadata": {},
   "outputs": [
    {
     "data": {
      "text/plain": [
       "[Inequality(Constant(CONSTANT, NONNEGATIVE, ())),\n",
       " Inequality(Expression(AFFINE, UNKNOWN, (1,)))]"
      ]
     },
     "execution_count": 17,
     "metadata": {},
     "output_type": "execute_result"
    }
   ],
   "source": [
    "con.constraints_"
   ]
  },
  {
   "cell_type": "code",
   "execution_count": 18,
   "id": "9fb9c527-3b07-4465-8d74-c653c0528252",
   "metadata": {},
   "outputs": [
    {
     "data": {
      "text/plain": [
       "array([-210.78479202,  271.9507549 , -292.53195041,   58.16860197,\n",
       "        171.13497985, -128.24130413,   39.81402271,  -75.26708694,\n",
       "       -380.03185675, -245.61790134])"
      ]
     },
     "execution_count": 18,
     "metadata": {},
     "output_type": "execute_result"
    }
   ],
   "source": [
    "lin.predict(X)[:10]"
   ]
  },
  {
   "cell_type": "code",
   "execution_count": 19,
   "id": "ac9ebaae-c7e9-4d92-b285-bf82a8e49c8e",
   "metadata": {},
   "outputs": [
    {
     "data": {
      "text/plain": [
       "array([  30.        ,  343.77110003, -267.90380904,   38.03676497,\n",
       "        153.27388416, -149.8483624 ,   67.42506185,  -47.94535284,\n",
       "       -367.61234668, -258.55333212])"
      ]
     },
     "execution_count": 19,
     "metadata": {},
     "output_type": "execute_result"
    }
   ],
   "source": [
    "con.predict(X)[:10]"
   ]
  },
  {
   "cell_type": "markdown",
   "id": "752ddac7-36ac-4f9f-8002-2b6e23bea243",
   "metadata": {},
   "source": [
    "So this is pretty interesting. \n",
    "\n",
    "We do not need to resort to sample weights here. We can totally drop the hammer and force the behavior out with a constraint."
   ]
  }
 ],
 "metadata": {
  "kernelspec": {
   "display_name": "Python 3 (ipykernel)",
   "language": "python",
   "name": "python3"
  },
  "language_info": {
   "codemirror_mode": {
    "name": "ipython",
    "version": 3
   },
   "file_extension": ".py",
   "mimetype": "text/x-python",
   "name": "python",
   "nbconvert_exporter": "python",
   "pygments_lexer": "ipython3",
   "version": "3.11.6"
  }
 },
 "nbformat": 4,
 "nbformat_minor": 5
}
