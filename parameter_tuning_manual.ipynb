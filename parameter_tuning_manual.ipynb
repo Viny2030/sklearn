{
  "cells": [
    {
      "cell_type": "markdown",
      "metadata": {
        "id": "view-in-github",
        "colab_type": "text"
      },
      "source": [
        "<a href=\"https://colab.research.google.com/github/Viny2030/sklearn/blob/main/parameter_tuning_manual.ipynb\" target=\"_parent\"><img src=\"https://colab.research.google.com/assets/colab-badge.svg\" alt=\"Open In Colab\"/></a>"
      ]
    },
    {
      "cell_type": "markdown",
      "id": "b6b3b287",
      "metadata": {
        "id": "b6b3b287"
      },
      "source": [
        "# Set and get hyperparameters in scikit-learn\n",
        "\n",
        "Recall that hyperparameters refer to the parameters that control the learning\n",
        "process of a predictive model and are specific for each family of models. In\n",
        "addition, the optimal set of hyperparameters is specific to each dataset and\n",
        "thus they always need to be optimized.\n",
        "\n",
        "This notebook shows how one can get and set the value of a hyperparameter in a\n",
        "scikit-learn estimator.\n",
        "\n",
        "They should not be confused with the fitted parameters, resulting from the\n",
        "training. These fitted parameters are recognizable in scikit-learn because\n",
        "they are spelled with a final underscore `_`, for instance `model.coef_`.\n",
        "\n",
        "We start by loading the adult census dataset and only use the numerical\n",
        "features."
      ]
    },
    {
      "cell_type": "markdown",
      "source": [
        "Establecer y obtener hiperparámetros en scikit-learn\n",
        "Recuerde que los hiperparámetros se refieren a los parámetros que controlan el proceso de aprendizaje de un modelo predictivo y son específicos para cada familia de modelos. Además, el conjunto óptimo de hiperparámetros es específico para cada conjunto de datos y, por lo tanto, siempre deben optimizarse.\n",
        "\n",
        "Este cuaderno muestra cómo se puede obtener y establecer el valor de un hiperparámetro en un estimador de scikit-learn.\n",
        "\n",
        "No deben confundirse con los parámetros ajustados, resultantes del entrenamiento. Estos parámetros ajustados son reconocibles en scikit-learn porque se escriben con un guión bajo final _, por ejemplo, model.coef_.\n",
        "\n",
        "Comenzamos cargando el conjunto de datos del censo de adultos y solo usamos las características numéricas.\n"
      ],
      "metadata": {
        "id": "se4-OZRL0bgN"
      },
      "id": "se4-OZRL0bgN"
    },
    {
      "cell_type": "code",
      "execution_count": 1,
      "id": "d560b1f1",
      "metadata": {
        "id": "d560b1f1"
      },
      "outputs": [],
      "source": [
        "import pandas as pd\n",
        "\n",
        "adult_census = pd.read_csv(\"https://raw.githubusercontent.com/Viny2030/datasets/refs/heads/main/adult_census.csv\")\n",
        "\n",
        "target_name = \"class\"\n",
        "numerical_columns = [\"age\", \"capital-gain\", \"capital-loss\", \"hours-per-week\"]\n",
        "\n",
        "target = adult_census[target_name]\n",
        "data = adult_census[numerical_columns]"
      ]
    },
    {
      "cell_type": "markdown",
      "id": "deecd545",
      "metadata": {
        "id": "deecd545"
      },
      "source": [
        "Our data is only numerical."
      ]
    },
    {
      "cell_type": "code",
      "execution_count": 2,
      "id": "5e77a88c",
      "metadata": {
        "id": "5e77a88c",
        "colab": {
          "base_uri": "https://localhost:8080/",
          "height": 206
        },
        "outputId": "0a3c1419-520c-48bd-d283-c2d21a2f754c"
      },
      "outputs": [
        {
          "output_type": "execute_result",
          "data": {
            "text/plain": [
              "   age  capital-gain  capital-loss  hours-per-week\n",
              "0   25             0             0              40\n",
              "1   38             0             0              50\n",
              "2   28             0             0              40\n",
              "3   44          7688             0              40\n",
              "4   18             0             0              30"
            ],
            "text/html": [
              "\n",
              "  <div id=\"df-00e2fb9c-1f6f-4da1-9bdd-dbafdf9af70a\" class=\"colab-df-container\">\n",
              "    <div>\n",
              "<style scoped>\n",
              "    .dataframe tbody tr th:only-of-type {\n",
              "        vertical-align: middle;\n",
              "    }\n",
              "\n",
              "    .dataframe tbody tr th {\n",
              "        vertical-align: top;\n",
              "    }\n",
              "\n",
              "    .dataframe thead th {\n",
              "        text-align: right;\n",
              "    }\n",
              "</style>\n",
              "<table border=\"1\" class=\"dataframe\">\n",
              "  <thead>\n",
              "    <tr style=\"text-align: right;\">\n",
              "      <th></th>\n",
              "      <th>age</th>\n",
              "      <th>capital-gain</th>\n",
              "      <th>capital-loss</th>\n",
              "      <th>hours-per-week</th>\n",
              "    </tr>\n",
              "  </thead>\n",
              "  <tbody>\n",
              "    <tr>\n",
              "      <th>0</th>\n",
              "      <td>25</td>\n",
              "      <td>0</td>\n",
              "      <td>0</td>\n",
              "      <td>40</td>\n",
              "    </tr>\n",
              "    <tr>\n",
              "      <th>1</th>\n",
              "      <td>38</td>\n",
              "      <td>0</td>\n",
              "      <td>0</td>\n",
              "      <td>50</td>\n",
              "    </tr>\n",
              "    <tr>\n",
              "      <th>2</th>\n",
              "      <td>28</td>\n",
              "      <td>0</td>\n",
              "      <td>0</td>\n",
              "      <td>40</td>\n",
              "    </tr>\n",
              "    <tr>\n",
              "      <th>3</th>\n",
              "      <td>44</td>\n",
              "      <td>7688</td>\n",
              "      <td>0</td>\n",
              "      <td>40</td>\n",
              "    </tr>\n",
              "    <tr>\n",
              "      <th>4</th>\n",
              "      <td>18</td>\n",
              "      <td>0</td>\n",
              "      <td>0</td>\n",
              "      <td>30</td>\n",
              "    </tr>\n",
              "  </tbody>\n",
              "</table>\n",
              "</div>\n",
              "    <div class=\"colab-df-buttons\">\n",
              "\n",
              "  <div class=\"colab-df-container\">\n",
              "    <button class=\"colab-df-convert\" onclick=\"convertToInteractive('df-00e2fb9c-1f6f-4da1-9bdd-dbafdf9af70a')\"\n",
              "            title=\"Convert this dataframe to an interactive table.\"\n",
              "            style=\"display:none;\">\n",
              "\n",
              "  <svg xmlns=\"http://www.w3.org/2000/svg\" height=\"24px\" viewBox=\"0 -960 960 960\">\n",
              "    <path d=\"M120-120v-720h720v720H120Zm60-500h600v-160H180v160Zm220 220h160v-160H400v160Zm0 220h160v-160H400v160ZM180-400h160v-160H180v160Zm440 0h160v-160H620v160ZM180-180h160v-160H180v160Zm440 0h160v-160H620v160Z\"/>\n",
              "  </svg>\n",
              "    </button>\n",
              "\n",
              "  <style>\n",
              "    .colab-df-container {\n",
              "      display:flex;\n",
              "      gap: 12px;\n",
              "    }\n",
              "\n",
              "    .colab-df-convert {\n",
              "      background-color: #E8F0FE;\n",
              "      border: none;\n",
              "      border-radius: 50%;\n",
              "      cursor: pointer;\n",
              "      display: none;\n",
              "      fill: #1967D2;\n",
              "      height: 32px;\n",
              "      padding: 0 0 0 0;\n",
              "      width: 32px;\n",
              "    }\n",
              "\n",
              "    .colab-df-convert:hover {\n",
              "      background-color: #E2EBFA;\n",
              "      box-shadow: 0px 1px 2px rgba(60, 64, 67, 0.3), 0px 1px 3px 1px rgba(60, 64, 67, 0.15);\n",
              "      fill: #174EA6;\n",
              "    }\n",
              "\n",
              "    .colab-df-buttons div {\n",
              "      margin-bottom: 4px;\n",
              "    }\n",
              "\n",
              "    [theme=dark] .colab-df-convert {\n",
              "      background-color: #3B4455;\n",
              "      fill: #D2E3FC;\n",
              "    }\n",
              "\n",
              "    [theme=dark] .colab-df-convert:hover {\n",
              "      background-color: #434B5C;\n",
              "      box-shadow: 0px 1px 3px 1px rgba(0, 0, 0, 0.15);\n",
              "      filter: drop-shadow(0px 1px 2px rgba(0, 0, 0, 0.3));\n",
              "      fill: #FFFFFF;\n",
              "    }\n",
              "  </style>\n",
              "\n",
              "    <script>\n",
              "      const buttonEl =\n",
              "        document.querySelector('#df-00e2fb9c-1f6f-4da1-9bdd-dbafdf9af70a button.colab-df-convert');\n",
              "      buttonEl.style.display =\n",
              "        google.colab.kernel.accessAllowed ? 'block' : 'none';\n",
              "\n",
              "      async function convertToInteractive(key) {\n",
              "        const element = document.querySelector('#df-00e2fb9c-1f6f-4da1-9bdd-dbafdf9af70a');\n",
              "        const dataTable =\n",
              "          await google.colab.kernel.invokeFunction('convertToInteractive',\n",
              "                                                    [key], {});\n",
              "        if (!dataTable) return;\n",
              "\n",
              "        const docLinkHtml = 'Like what you see? Visit the ' +\n",
              "          '<a target=\"_blank\" href=https://colab.research.google.com/notebooks/data_table.ipynb>data table notebook</a>'\n",
              "          + ' to learn more about interactive tables.';\n",
              "        element.innerHTML = '';\n",
              "        dataTable['output_type'] = 'display_data';\n",
              "        await google.colab.output.renderOutput(dataTable, element);\n",
              "        const docLink = document.createElement('div');\n",
              "        docLink.innerHTML = docLinkHtml;\n",
              "        element.appendChild(docLink);\n",
              "      }\n",
              "    </script>\n",
              "  </div>\n",
              "\n",
              "\n",
              "<div id=\"df-48433959-763b-4765-9e3d-061a2369dd7f\">\n",
              "  <button class=\"colab-df-quickchart\" onclick=\"quickchart('df-48433959-763b-4765-9e3d-061a2369dd7f')\"\n",
              "            title=\"Suggest charts\"\n",
              "            style=\"display:none;\">\n",
              "\n",
              "<svg xmlns=\"http://www.w3.org/2000/svg\" height=\"24px\"viewBox=\"0 0 24 24\"\n",
              "     width=\"24px\">\n",
              "    <g>\n",
              "        <path d=\"M19 3H5c-1.1 0-2 .9-2 2v14c0 1.1.9 2 2 2h14c1.1 0 2-.9 2-2V5c0-1.1-.9-2-2-2zM9 17H7v-7h2v7zm4 0h-2V7h2v10zm4 0h-2v-4h2v4z\"/>\n",
              "    </g>\n",
              "</svg>\n",
              "  </button>\n",
              "\n",
              "<style>\n",
              "  .colab-df-quickchart {\n",
              "      --bg-color: #E8F0FE;\n",
              "      --fill-color: #1967D2;\n",
              "      --hover-bg-color: #E2EBFA;\n",
              "      --hover-fill-color: #174EA6;\n",
              "      --disabled-fill-color: #AAA;\n",
              "      --disabled-bg-color: #DDD;\n",
              "  }\n",
              "\n",
              "  [theme=dark] .colab-df-quickchart {\n",
              "      --bg-color: #3B4455;\n",
              "      --fill-color: #D2E3FC;\n",
              "      --hover-bg-color: #434B5C;\n",
              "      --hover-fill-color: #FFFFFF;\n",
              "      --disabled-bg-color: #3B4455;\n",
              "      --disabled-fill-color: #666;\n",
              "  }\n",
              "\n",
              "  .colab-df-quickchart {\n",
              "    background-color: var(--bg-color);\n",
              "    border: none;\n",
              "    border-radius: 50%;\n",
              "    cursor: pointer;\n",
              "    display: none;\n",
              "    fill: var(--fill-color);\n",
              "    height: 32px;\n",
              "    padding: 0;\n",
              "    width: 32px;\n",
              "  }\n",
              "\n",
              "  .colab-df-quickchart:hover {\n",
              "    background-color: var(--hover-bg-color);\n",
              "    box-shadow: 0 1px 2px rgba(60, 64, 67, 0.3), 0 1px 3px 1px rgba(60, 64, 67, 0.15);\n",
              "    fill: var(--button-hover-fill-color);\n",
              "  }\n",
              "\n",
              "  .colab-df-quickchart-complete:disabled,\n",
              "  .colab-df-quickchart-complete:disabled:hover {\n",
              "    background-color: var(--disabled-bg-color);\n",
              "    fill: var(--disabled-fill-color);\n",
              "    box-shadow: none;\n",
              "  }\n",
              "\n",
              "  .colab-df-spinner {\n",
              "    border: 2px solid var(--fill-color);\n",
              "    border-color: transparent;\n",
              "    border-bottom-color: var(--fill-color);\n",
              "    animation:\n",
              "      spin 1s steps(1) infinite;\n",
              "  }\n",
              "\n",
              "  @keyframes spin {\n",
              "    0% {\n",
              "      border-color: transparent;\n",
              "      border-bottom-color: var(--fill-color);\n",
              "      border-left-color: var(--fill-color);\n",
              "    }\n",
              "    20% {\n",
              "      border-color: transparent;\n",
              "      border-left-color: var(--fill-color);\n",
              "      border-top-color: var(--fill-color);\n",
              "    }\n",
              "    30% {\n",
              "      border-color: transparent;\n",
              "      border-left-color: var(--fill-color);\n",
              "      border-top-color: var(--fill-color);\n",
              "      border-right-color: var(--fill-color);\n",
              "    }\n",
              "    40% {\n",
              "      border-color: transparent;\n",
              "      border-right-color: var(--fill-color);\n",
              "      border-top-color: var(--fill-color);\n",
              "    }\n",
              "    60% {\n",
              "      border-color: transparent;\n",
              "      border-right-color: var(--fill-color);\n",
              "    }\n",
              "    80% {\n",
              "      border-color: transparent;\n",
              "      border-right-color: var(--fill-color);\n",
              "      border-bottom-color: var(--fill-color);\n",
              "    }\n",
              "    90% {\n",
              "      border-color: transparent;\n",
              "      border-bottom-color: var(--fill-color);\n",
              "    }\n",
              "  }\n",
              "</style>\n",
              "\n",
              "  <script>\n",
              "    async function quickchart(key) {\n",
              "      const quickchartButtonEl =\n",
              "        document.querySelector('#' + key + ' button');\n",
              "      quickchartButtonEl.disabled = true;  // To prevent multiple clicks.\n",
              "      quickchartButtonEl.classList.add('colab-df-spinner');\n",
              "      try {\n",
              "        const charts = await google.colab.kernel.invokeFunction(\n",
              "            'suggestCharts', [key], {});\n",
              "      } catch (error) {\n",
              "        console.error('Error during call to suggestCharts:', error);\n",
              "      }\n",
              "      quickchartButtonEl.classList.remove('colab-df-spinner');\n",
              "      quickchartButtonEl.classList.add('colab-df-quickchart-complete');\n",
              "    }\n",
              "    (() => {\n",
              "      let quickchartButtonEl =\n",
              "        document.querySelector('#df-48433959-763b-4765-9e3d-061a2369dd7f button');\n",
              "      quickchartButtonEl.style.display =\n",
              "        google.colab.kernel.accessAllowed ? 'block' : 'none';\n",
              "    })();\n",
              "  </script>\n",
              "</div>\n",
              "\n",
              "    </div>\n",
              "  </div>\n"
            ],
            "application/vnd.google.colaboratory.intrinsic+json": {
              "type": "dataframe",
              "variable_name": "data",
              "summary": "{\n  \"name\": \"data\",\n  \"rows\": 48842,\n  \"fields\": [\n    {\n      \"column\": \"age\",\n      \"properties\": {\n        \"dtype\": \"number\",\n        \"std\": 13,\n        \"min\": 17,\n        \"max\": 90,\n        \"num_unique_values\": 74,\n        \"samples\": [\n          18,\n          74,\n          40\n        ],\n        \"semantic_type\": \"\",\n        \"description\": \"\"\n      }\n    },\n    {\n      \"column\": \"capital-gain\",\n      \"properties\": {\n        \"dtype\": \"number\",\n        \"std\": 7452,\n        \"min\": 0,\n        \"max\": 99999,\n        \"num_unique_values\": 123,\n        \"samples\": [\n          4064,\n          4787,\n          401\n        ],\n        \"semantic_type\": \"\",\n        \"description\": \"\"\n      }\n    },\n    {\n      \"column\": \"capital-loss\",\n      \"properties\": {\n        \"dtype\": \"number\",\n        \"std\": 403,\n        \"min\": 0,\n        \"max\": 4356,\n        \"num_unique_values\": 99,\n        \"samples\": [\n          2238,\n          1564,\n          155\n        ],\n        \"semantic_type\": \"\",\n        \"description\": \"\"\n      }\n    },\n    {\n      \"column\": \"hours-per-week\",\n      \"properties\": {\n        \"dtype\": \"number\",\n        \"std\": 12,\n        \"min\": 1,\n        \"max\": 99,\n        \"num_unique_values\": 96,\n        \"samples\": [\n          9,\n          11,\n          98\n        ],\n        \"semantic_type\": \"\",\n        \"description\": \"\"\n      }\n    }\n  ]\n}"
            }
          },
          "metadata": {},
          "execution_count": 2
        }
      ],
      "source": [
        "data.head()"
      ]
    },
    {
      "cell_type": "markdown",
      "id": "39341cd0",
      "metadata": {
        "id": "39341cd0"
      },
      "source": [
        "Let's create a simple predictive model made of a scaler followed by a logistic\n",
        "regression classifier.\n",
        "\n",
        "As mentioned in previous notebooks, many models, including linear ones, work\n",
        "better if all features have a similar scaling. For this purpose, we use a\n",
        "`StandardScaler`, which transforms the data by rescaling features."
      ]
    },
    {
      "cell_type": "markdown",
      "source": [
        "Creemos un modelo predictivo simple compuesto por un escalador seguido de un clasificador de regresión logística.\n",
        "\n",
        "Como se mencionó en cuadernos anteriores, muchos modelos, incluidos los lineales, funcionan mejor si todas las características tienen un escalado similar. Para este propósito, utilizamos un StandardScaler, que transforma los datos reescalando las características."
      ],
      "metadata": {
        "id": "_6udcKnc0x1d"
      },
      "id": "_6udcKnc0x1d"
    },
    {
      "cell_type": "code",
      "execution_count": 3,
      "id": "beaa8b62",
      "metadata": {
        "id": "beaa8b62"
      },
      "outputs": [],
      "source": [
        "from sklearn.pipeline import Pipeline\n",
        "from sklearn.preprocessing import StandardScaler\n",
        "from sklearn.linear_model import LogisticRegression\n",
        "\n",
        "model = Pipeline(\n",
        "    steps=[\n",
        "        (\"preprocessor\", StandardScaler()),\n",
        "        (\"classifier\", LogisticRegression()),\n",
        "    ]\n",
        ")"
      ]
    },
    {
      "cell_type": "code",
      "source": [
        "from sklearn.linear_model import LogisticRegression\n",
        "\n",
        "model1 = Pipeline(\n",
        "    steps=[\n",
        "        (\"preprocessor\", StandardScaler()),\n",
        "        (\"classifier\", LogisticRegression()),\n",
        "    ]\n",
        ")\n"
      ],
      "metadata": {
        "id": "ISLY7RBA24nW"
      },
      "id": "ISLY7RBA24nW",
      "execution_count": 29,
      "outputs": []
    },
    {
      "cell_type": "code",
      "source": [
        "model1.get_params()"
      ],
      "metadata": {
        "colab": {
          "base_uri": "https://localhost:8080/"
        },
        "id": "jGpSQR943NZl",
        "outputId": "ec839748-6aad-4f77-c2b1-b6060e61820e"
      },
      "id": "jGpSQR943NZl",
      "execution_count": 30,
      "outputs": [
        {
          "output_type": "execute_result",
          "data": {
            "text/plain": [
              "{'memory': None,\n",
              " 'steps': [('preprocessor', StandardScaler()),\n",
              "  ('classifier', LogisticRegression())],\n",
              " 'verbose': False,\n",
              " 'preprocessor': StandardScaler(),\n",
              " 'classifier': LogisticRegression(),\n",
              " 'preprocessor__copy': True,\n",
              " 'preprocessor__with_mean': True,\n",
              " 'preprocessor__with_std': True,\n",
              " 'classifier__C': 1.0,\n",
              " 'classifier__class_weight': None,\n",
              " 'classifier__dual': False,\n",
              " 'classifier__fit_intercept': True,\n",
              " 'classifier__intercept_scaling': 1,\n",
              " 'classifier__l1_ratio': None,\n",
              " 'classifier__max_iter': 100,\n",
              " 'classifier__multi_class': 'deprecated',\n",
              " 'classifier__n_jobs': None,\n",
              " 'classifier__penalty': 'l2',\n",
              " 'classifier__random_state': None,\n",
              " 'classifier__solver': 'lbfgs',\n",
              " 'classifier__tol': 0.0001,\n",
              " 'classifier__verbose': 0,\n",
              " 'classifier__warm_start': False}"
            ]
          },
          "metadata": {},
          "execution_count": 30
        }
      ]
    },
    {
      "cell_type": "markdown",
      "id": "246e6603",
      "metadata": {
        "id": "246e6603"
      },
      "source": [
        "We can evaluate the generalization performance of the model via\n",
        "cross-validation."
      ]
    },
    {
      "cell_type": "markdown",
      "source": [
        "Podemos evaluar el rendimiento de generalización del modelo mediante validación cruzada."
      ],
      "metadata": {
        "id": "Df07PQgm06GE"
      },
      "id": "Df07PQgm06GE"
    },
    {
      "cell_type": "code",
      "execution_count": 32,
      "id": "bd92c188",
      "metadata": {
        "id": "bd92c188",
        "colab": {
          "base_uri": "https://localhost:8080/"
        },
        "outputId": "b73ec6e7-c388-49cc-b3ef-9583ce1f0e4d"
      },
      "outputs": [
        {
          "output_type": "stream",
          "name": "stdout",
          "text": [
            "Accuracy score via cross-validation:\n",
            "0.800 ± 0.003\n"
          ]
        }
      ],
      "source": [
        "from sklearn.model_selection import cross_validate\n",
        "\n",
        "cv_results = cross_validate(model, data, target)\n",
        "scores = cv_results[\"test_score\"]\n",
        "print(\n",
        "    \"Accuracy score via cross-validation:\\n\"\n",
        "    f\"{scores.mean():.3f} ± {scores.std():.3f}\"\n",
        ")"
      ]
    },
    {
      "cell_type": "code",
      "source": [
        "cv_results"
      ],
      "metadata": {
        "colab": {
          "base_uri": "https://localhost:8080/"
        },
        "id": "T27mERZI3_BF",
        "outputId": "c1cbf9bf-7644-4c1c-e95b-fa65d2131bc0"
      },
      "id": "T27mERZI3_BF",
      "execution_count": 33,
      "outputs": [
        {
          "output_type": "execute_result",
          "data": {
            "text/plain": [
              "{'fit_time': array([0.10442591, 0.13993931, 0.13754535, 0.13829398, 0.13670921]),\n",
              " 'score_time': array([0.04064608, 0.03798366, 0.03712845, 0.03743505, 0.03733563]),\n",
              " 'test_score': array([0.79557785, 0.80049135, 0.79965192, 0.79873055, 0.80446355])}"
            ]
          },
          "metadata": {},
          "execution_count": 33
        }
      ]
    },
    {
      "cell_type": "code",
      "source": [
        "from sklearn.model_selection import cross_validate\n",
        "\n",
        "cv_results1 = cross_validate(model1, data, target)\n",
        "scores1 = cv_results1[\"test_score\"]\n",
        "print(\n",
        "    \"Accuracy score via cross-validation:\\n\"\n",
        "    f\"{scores.mean():.3f} ± {scores.std():.3f}\"\n",
        ")"
      ],
      "metadata": {
        "colab": {
          "base_uri": "https://localhost:8080/"
        },
        "id": "MSIuk_Gf3lAf",
        "outputId": "2f22f822-33f6-4cea-82f4-c483f8fc9868"
      },
      "id": "MSIuk_Gf3lAf",
      "execution_count": 36,
      "outputs": [
        {
          "output_type": "stream",
          "name": "stdout",
          "text": [
            "Accuracy score via cross-validation:\n",
            "0.800 ± 0.003\n"
          ]
        }
      ]
    },
    {
      "cell_type": "code",
      "source": [
        "cv_results1"
      ],
      "metadata": {
        "colab": {
          "base_uri": "https://localhost:8080/"
        },
        "id": "5ExC5czz0-p-",
        "outputId": "f1ec9611-db11-4767-c1ea-89706f3f3f87"
      },
      "id": "5ExC5czz0-p-",
      "execution_count": 37,
      "outputs": [
        {
          "output_type": "execute_result",
          "data": {
            "text/plain": [
              "{'fit_time': array([0.09746623, 0.13817811, 0.13940883, 0.13799977, 0.13284373]),\n",
              " 'score_time': array([0.03794789, 0.03754663, 0.03743029, 0.03700733, 0.03672624]),\n",
              " 'test_score': array([0.79557785, 0.80049135, 0.79965192, 0.79873055, 0.80456593])}"
            ]
          },
          "metadata": {},
          "execution_count": 37
        }
      ]
    },
    {
      "cell_type": "code",
      "source": [
        "scores1"
      ],
      "metadata": {
        "colab": {
          "base_uri": "https://localhost:8080/"
        },
        "id": "WRSImF8X1KgU",
        "outputId": "b5bec3c6-4bda-4405-9334-76e85a734ab3"
      },
      "id": "WRSImF8X1KgU",
      "execution_count": 38,
      "outputs": [
        {
          "output_type": "execute_result",
          "data": {
            "text/plain": [
              "array([0.79557785, 0.80049135, 0.79965192, 0.79873055, 0.80456593])"
            ]
          },
          "metadata": {},
          "execution_count": 38
        }
      ]
    },
    {
      "cell_type": "markdown",
      "id": "58e94e8d",
      "metadata": {
        "id": "58e94e8d"
      },
      "source": [
        "We created a model with the default `C` value that is equal to 1. If we wanted\n",
        "to use a different `C` hyperparameter we could have done so when we created the\n",
        "`LogisticRegression` object with something like `LogisticRegression(C=1e-3)`.\n",
        "\n",
        "<div class=\"admonition note alert alert-info\">\n",
        "<p class=\"first admonition-title\" style=\"font-weight: bold;\">Note</p>\n",
        "<p class=\"last\">For more information on the model hyperparameter <tt class=\"docutils literal\">C</tt>, refer to the\n",
        "<a class=\"reference external\" href=\"https://scikit-learn.org/stable/modules/generated/sklearn.linear_model.LogisticRegression.html\">documentation</a>.\n",
        "Be aware that we will focus on linear models in an upcoming module.</p>\n",
        "</div>\n",
        "\n",
        "We can also change the hyperparameter of a model after it has been created\n",
        "with the `set_params` method, which is available for all scikit-learn\n",
        "estimators. For example, we can set `C=1e-3`, fit and evaluate the model:"
      ]
    },
    {
      "cell_type": "markdown",
      "source": [
        "Creamos un modelo con el valor C predeterminado que es igual a 1. Si quisiéramos usar un hiperparámetro C diferente, podríamos haberlo hecho cuando creamos el objeto LogisticRegression con algo como LogisticRegression(C=1e-3).\n",
        "\n",
        "Nota\n",
        "\n",
        "Para obtener más información sobre el hiperparámetro C del modelo, consulte la documentación. Tenga en cuenta que nos centraremos en los modelos lineales en un próximo módulo.\n",
        "\n",
        "También podemos cambiar el hiperparámetro de un modelo después de que se haya creado con el método set_params, que está disponible para todos los estimadores de scikit-learn. Por ejemplo, podemos establecer C=1e-3, ajustar y evaluar el modelo:\n"
      ],
      "metadata": {
        "id": "VEiLI9sb1QMl"
      },
      "id": "VEiLI9sb1QMl"
    },
    {
      "cell_type": "code",
      "execution_count": 9,
      "id": "a33cbefe",
      "metadata": {
        "id": "a33cbefe",
        "colab": {
          "base_uri": "https://localhost:8080/"
        },
        "outputId": "28f804b4-bc66-4819-ba60-5de00628a3d8"
      },
      "outputs": [
        {
          "output_type": "stream",
          "name": "stdout",
          "text": [
            "Accuracy score via cross-validation:\n",
            "0.787 ± 0.002\n"
          ]
        }
      ],
      "source": [
        "model.set_params(classifier__C=1e-3)\n",
        "cv_results = cross_validate(model, data, target)\n",
        "scores = cv_results[\"test_score\"]\n",
        "print(\n",
        "    \"Accuracy score via cross-validation:\\n\"\n",
        "    f\"{scores.mean():.3f} ± {scores.std():.3f}\"\n",
        ")"
      ]
    },
    {
      "cell_type": "markdown",
      "id": "0779898f",
      "metadata": {
        "id": "0779898f"
      },
      "source": [
        "When the model of interest is a `Pipeline`, the hyperparameter names are of\n",
        "the form `<model_name>__<hyperparameter_name>` (note the double underscore in\n",
        "the middle). In our case, `classifier` comes from the `Pipeline` definition\n",
        "and `C` is the hyperparameter name of `LogisticRegression`.\n",
        "\n",
        "In general, you can use the `get_params` method on scikit-learn models to list\n",
        "all the hyperparameters with their values. For example, if you want to get all\n",
        "the hyperparameter names, you can use:"
      ]
    },
    {
      "cell_type": "markdown",
      "source": [
        "Cuando el modelo de interés es un Pipeline, los nombres de los hiperparámetros tienen el formato <model_name>__<hyperparameter_name> (observe el doble guión bajo en el medio). En nuestro caso, el clasificador proviene de la definición de Pipeline y C es el nombre del hiperparámetro de LogisticRegression.\n",
        "\n",
        "En general, puede utilizar el método get_params en los modelos de scikit-learn para enumerar todos los hiperparámetros con sus valores. Por ejemplo, si desea obtener todos los nombres de los hiperparámetros, puede utilizar:"
      ],
      "metadata": {
        "id": "ypCocGOs1bfk"
      },
      "id": "ypCocGOs1bfk"
    },
    {
      "cell_type": "code",
      "execution_count": 10,
      "id": "dabcaadc",
      "metadata": {
        "id": "dabcaadc",
        "colab": {
          "base_uri": "https://localhost:8080/"
        },
        "outputId": "edae2d35-c641-46ea-aa48-da9b890f9122"
      },
      "outputs": [
        {
          "output_type": "stream",
          "name": "stdout",
          "text": [
            "memory\n",
            "steps\n",
            "verbose\n",
            "preprocessor\n",
            "classifier\n",
            "preprocessor__copy\n",
            "preprocessor__with_mean\n",
            "preprocessor__with_std\n",
            "classifier__C\n",
            "classifier__class_weight\n",
            "classifier__dual\n",
            "classifier__fit_intercept\n",
            "classifier__intercept_scaling\n",
            "classifier__l1_ratio\n",
            "classifier__max_iter\n",
            "classifier__multi_class\n",
            "classifier__n_jobs\n",
            "classifier__penalty\n",
            "classifier__random_state\n",
            "classifier__solver\n",
            "classifier__tol\n",
            "classifier__verbose\n",
            "classifier__warm_start\n"
          ]
        }
      ],
      "source": [
        "for parameter in model.get_params():\n",
        "    print(parameter)"
      ]
    },
    {
      "cell_type": "code",
      "source": [
        "# Assuming 'model' is your trained model object\n",
        "preprocessor = model.named_steps['preprocessor'] # Assuming 'preprocessor' is the name of the preprocessing step in your pipeline\n",
        "print(preprocessor)"
      ],
      "metadata": {
        "colab": {
          "base_uri": "https://localhost:8080/"
        },
        "id": "7BPdhdgJ1qds",
        "outputId": "5400f863-ef96-4cca-b212-8ea2e87e7874"
      },
      "id": "7BPdhdgJ1qds",
      "execution_count": 12,
      "outputs": [
        {
          "output_type": "stream",
          "name": "stdout",
          "text": [
            "StandardScaler()\n"
          ]
        }
      ]
    },
    {
      "cell_type": "code",
      "source": [
        "\n",
        "params = model.get_params()\n",
        "# Assuming your classifier is an ElasticNet or LogisticRegression, try accessing the l1_ratio directly:\n",
        "if 'classifier__l1_ratio' in params:\n",
        "    parameter__C = params['classifier__l1_ratio']\n",
        "    print(parameter__C)\n",
        "else:\n",
        "    print(\"Classifier does not have an l1_ratio parameter.\")"
      ],
      "metadata": {
        "colab": {
          "base_uri": "https://localhost:8080/"
        },
        "id": "RxeP7rYP2V_M",
        "outputId": "d9bd5948-a6bf-4fe2-e8f3-7149473ca68f"
      },
      "id": "RxeP7rYP2V_M",
      "execution_count": 21,
      "outputs": [
        {
          "output_type": "stream",
          "name": "stdout",
          "text": [
            "None\n"
          ]
        }
      ]
    },
    {
      "cell_type": "markdown",
      "id": "e3a68939",
      "metadata": {
        "id": "e3a68939"
      },
      "source": [
        "`.get_params()` returns a `dict` whose keys are the hyperparameter names and\n",
        "whose values are the hyperparameter values. If you want to get the value of a\n",
        "single hyperparameter, for example `classifier__C`, you can use:"
      ]
    },
    {
      "cell_type": "markdown",
      "source": [
        ".get_params() devuelve un diccionario cuyas claves son los nombres de los hiperparámetros y cuyos valores son los valores de los hiperparámetros. Si desea obtener el valor de un solo hiperparámetro, por ejemplo, classifier__C, puede utilizar:"
      ],
      "metadata": {
        "id": "f4Hvt3SY1wrl"
      },
      "id": "f4Hvt3SY1wrl"
    },
    {
      "cell_type": "code",
      "execution_count": 13,
      "id": "895d1540",
      "metadata": {
        "id": "895d1540",
        "colab": {
          "base_uri": "https://localhost:8080/"
        },
        "outputId": "0a3de638-3af3-434a-c084-0a337b6acff5"
      },
      "outputs": [
        {
          "output_type": "execute_result",
          "data": {
            "text/plain": [
              "0.001"
            ]
          },
          "metadata": {},
          "execution_count": 13
        }
      ],
      "source": [
        "model.get_params()[\"classifier__C\"]"
      ]
    },
    {
      "cell_type": "code",
      "source": [
        "model1.get_params()[\"classifier__C\"]"
      ],
      "metadata": {
        "colab": {
          "base_uri": "https://localhost:8080/"
        },
        "id": "JGAQb16q4a6t",
        "outputId": "dfa1c24a-3e1f-49d5-f76d-89bce0e24ffc"
      },
      "id": "JGAQb16q4a6t",
      "execution_count": 39,
      "outputs": [
        {
          "output_type": "execute_result",
          "data": {
            "text/plain": [
              "1.0"
            ]
          },
          "metadata": {},
          "execution_count": 39
        }
      ]
    },
    {
      "cell_type": "markdown",
      "id": "a6b7b642",
      "metadata": {
        "id": "a6b7b642"
      },
      "source": [
        "We can systematically vary the value of C to see if there is an optimal\n",
        "value."
      ]
    },
    {
      "cell_type": "code",
      "execution_count": 22,
      "id": "89365579",
      "metadata": {
        "id": "89365579",
        "colab": {
          "base_uri": "https://localhost:8080/"
        },
        "outputId": "401bc33f-f639-4f1f-8361-12e2b4cc972c"
      },
      "outputs": [
        {
          "output_type": "stream",
          "name": "stdout",
          "text": [
            "Accuracy score via cross-validation with C=0.001:\n",
            "0.787 ± 0.002\n",
            "Accuracy score via cross-validation with C=0.01:\n",
            "0.799 ± 0.003\n",
            "Accuracy score via cross-validation with C=0.1:\n",
            "0.800 ± 0.003\n",
            "Accuracy score via cross-validation with C=1:\n",
            "0.800 ± 0.003\n",
            "Accuracy score via cross-validation with C=10:\n",
            "0.800 ± 0.003\n"
          ]
        }
      ],
      "source": [
        "for C in [1e-3, 1e-2, 1e-1, 1, 10]:\n",
        "    model.set_params(classifier__C=C)\n",
        "    cv_results = cross_validate(model, data, target)\n",
        "    scores = cv_results[\"test_score\"]\n",
        "    print(\n",
        "        f\"Accuracy score via cross-validation with C={C}:\\n\"\n",
        "        f\"{scores.mean():.3f} ± {scores.std():.3f}\"\n",
        "    )"
      ]
    },
    {
      "cell_type": "code",
      "source": [
        "for C in [1e-3, 1e-2, 1e-1, 1, 10]:\n",
        "    model1.set_params(classifier__C=C)\n",
        "    cv_results1 = cross_validate(model1, data, target)\n",
        "    scores1 = cv_results1[\"test_score\"]\n",
        "    print(\n",
        "        f\"Accuracy score via cross-validation with C={C}:\\n\"\n",
        "        f\"{scores1.mean():.3f} ± {scores.std():.3f}\"\n",
        "    )"
      ],
      "metadata": {
        "colab": {
          "base_uri": "https://localhost:8080/"
        },
        "id": "wRBzKy234et9",
        "outputId": "732eaf7b-3ffe-4f6e-e033-3e86e7b41382"
      },
      "id": "wRBzKy234et9",
      "execution_count": 41,
      "outputs": [
        {
          "output_type": "stream",
          "name": "stdout",
          "text": [
            "Accuracy score via cross-validation with C=0.001:\n",
            "0.787 ± 0.003\n",
            "Accuracy score via cross-validation with C=0.01:\n",
            "0.799 ± 0.003\n",
            "Accuracy score via cross-validation with C=0.1:\n",
            "0.800 ± 0.003\n",
            "Accuracy score via cross-validation with C=1:\n",
            "0.800 ± 0.003\n",
            "Accuracy score via cross-validation with C=10:\n",
            "0.800 ± 0.003\n"
          ]
        }
      ]
    },
    {
      "cell_type": "markdown",
      "id": "f3ae216e",
      "metadata": {
        "id": "f3ae216e"
      },
      "source": [
        "We can see that as long as C is high enough, the model seems to perform well.\n",
        "\n",
        "What we did here is very manual: it involves scanning the values for C and\n",
        "picking the best one manually. In the next lesson, we will see how to do this\n",
        "automatically.\n",
        "\n",
        "<div class=\"admonition warning alert alert-danger\">\n",
        "<p class=\"first admonition-title\" style=\"font-weight: bold;\">Warning</p>\n",
        "<p class=\"last\">When we evaluate a family of models on test data and pick the best performer,\n",
        "we can not trust the corresponding prediction accuracy, and we need to apply\n",
        "the selected model to new data. Indeed, the test data has been used to select\n",
        "the model, and it is thus no longer independent from this model.</p>\n",
        "</div>"
      ]
    },
    {
      "cell_type": "markdown",
      "source": [
        "Podemos ver que, siempre que C sea lo suficientemente alto, el modelo parece funcionar bien.\n",
        "\n",
        "Lo que hicimos aquí es muy manual: implica escanear los valores de C y elegir el mejor manualmente. En la próxima lección, veremos cómo hacer esto automáticamente.\n",
        "\n",
        "# Advertencia\n",
        "\n",
        "Cuando evaluamos una familia de modelos en datos de prueba y elegimos el que tiene mejor desempeño, no podemos confiar en la precisión de la predicción correspondiente y necesitamos aplicar el modelo seleccionado a nuevos datos. De hecho, los datos de prueba se han utilizado para seleccionar el modelo y, por lo tanto, ya no es independiente de este modelo."
      ],
      "metadata": {
        "id": "dOMTbXM52m2d"
      },
      "id": "dOMTbXM52m2d"
    },
    {
      "cell_type": "markdown",
      "id": "f0da774c",
      "metadata": {
        "id": "f0da774c"
      },
      "source": [
        "In this notebook we have seen:\n",
        "\n",
        "- how to use `get_params` and `set_params` to get the hyperparameters of a model\n",
        "  and set them."
      ]
    },
    {
      "cell_type": "markdown",
      "source": [
        "En este cuaderno hemos visto:\n",
        "\n",
        "cómo utilizar get_params y set_params para obtener los hiperparámetros de un modelo y configurarlos."
      ],
      "metadata": {
        "id": "d0VPrrKr2soo"
      },
      "id": "d0VPrrKr2soo"
    }
  ],
  "metadata": {
    "jupytext": {
      "main_language": "python"
    },
    "kernelspec": {
      "display_name": "Python 3 (ipykernel)",
      "language": "python",
      "name": "python3"
    },
    "language_info": {
      "codemirror_mode": {
        "name": "ipython",
        "version": 3
      },
      "file_extension": ".py",
      "mimetype": "text/x-python",
      "name": "python",
      "nbconvert_exporter": "python",
      "pygments_lexer": "ipython3",
      "version": "3.11.4"
    },
    "nbreset": "https://raw.githubusercontent.com/INRIA/scikit-learn-mooc/main/notebooks/parameter_tuning_manual.ipynb",
    "colab": {
      "provenance": [],
      "include_colab_link": true
    }
  },
  "nbformat": 4,
  "nbformat_minor": 5
}