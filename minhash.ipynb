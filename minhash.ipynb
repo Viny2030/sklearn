{
 "cells": [
  {
   "cell_type": "code",
   "execution_count": 8,
   "id": "9f3f3d8d-31db-4706-93e9-5b16f0a79a1c",
   "metadata": {},
   "outputs": [],
   "source": [
    "from skrub import MinHashEncoder\n",
    "import polars as pl"
   ]
  },
  {
   "cell_type": "code",
   "execution_count": 9,
   "id": "b1f6be57-fe7c-4203-a66b-4e83176b3866",
   "metadata": {},
   "outputs": [],
   "source": [
    "from skrub.datasets import fetch_employee_salaries\n",
    "from sklearn.datasets import fetch_20newsgroups\n",
    "X, y = fetch_20newsgroups(subset='train', return_X_y=True)"
   ]
  },
  {
   "cell_type": "markdown",
   "id": "9b8bfd56-1a2f-4825-a35c-b155bb6b16e0",
   "metadata": {},
   "source": [
    "## HashingVectorizer"
   ]
  },
  {
   "cell_type": "code",
   "execution_count": 137,
   "id": "95c267b3-19fa-4793-b28f-9c49716f0ca5",
   "metadata": {},
   "outputs": [],
   "source": [
    "from sklearn.feature_extraction.text import HashingVectorizer\n",
    "from sklearn.linear_model import LogisticRegression\n",
    "from sklearn.pipeline import make_pipeline\n",
    "from sklearn.model_selection import GridSearchCV\n",
    "\n",
    "pipe = make_pipeline(\n",
    "    HashingVectorizer(ngram_range=(1, 1), analyzer=\"word\"), \n",
    "    LogisticRegression()\n",
    ")\n",
    "\n",
    "grid = {\n",
    "    \"hashingvectorizer__n_features\": [100, 200, 500, 1000, 2000, 5000, 10000]\n",
    "}\n",
    "\n",
    "cv = GridSearchCV(pipe, grid, n_jobs=-1).fit(X, y)"
   ]
  },
  {
   "cell_type": "code",
   "execution_count": 138,
   "id": "121fdc2f-5a01-4062-bba6-0bcfb16716b8",
   "metadata": {},
   "outputs": [],
   "source": [
    "p = pl.DataFrame(cv.cv_results_).plot.line(\"param_hashingvectorizer__n_features\", \"mean_test_score\")"
   ]
  },
  {
   "cell_type": "code",
   "execution_count": 145,
   "id": "19619ad8-ba84-4316-b7c4-27ed8537d785",
   "metadata": {},
   "outputs": [
    {
     "data": {
      "text/html": [
       "\n",
       "<style>\n",
       "  #altair-viz-163c7e566cd841be872013d0a39dd6ab.vega-embed {\n",
       "    width: 100%;\n",
       "    display: flex;\n",
       "  }\n",
       "\n",
       "  #altair-viz-163c7e566cd841be872013d0a39dd6ab.vega-embed details,\n",
       "  #altair-viz-163c7e566cd841be872013d0a39dd6ab.vega-embed details summary {\n",
       "    position: relative;\n",
       "  }\n",
       "</style>\n",
       "<div id=\"altair-viz-163c7e566cd841be872013d0a39dd6ab\"></div>\n",
       "<script type=\"text/javascript\">\n",
       "  var VEGA_DEBUG = (typeof VEGA_DEBUG == \"undefined\") ? {} : VEGA_DEBUG;\n",
       "  (function(spec, embedOpt){\n",
       "    let outputDiv = document.currentScript.previousElementSibling;\n",
       "    if (outputDiv.id !== \"altair-viz-163c7e566cd841be872013d0a39dd6ab\") {\n",
       "      outputDiv = document.getElementById(\"altair-viz-163c7e566cd841be872013d0a39dd6ab\");\n",
       "    }\n",
       "    const paths = {\n",
       "      \"vega\": \"https://cdn.jsdelivr.net/npm/vega@5?noext\",\n",
       "      \"vega-lib\": \"https://cdn.jsdelivr.net/npm/vega-lib?noext\",\n",
       "      \"vega-lite\": \"https://cdn.jsdelivr.net/npm/vega-lite@5.20.1?noext\",\n",
       "      \"vega-embed\": \"https://cdn.jsdelivr.net/npm/vega-embed@6?noext\",\n",
       "    };\n",
       "\n",
       "    function maybeLoadScript(lib, version) {\n",
       "      var key = `${lib.replace(\"-\", \"\")}_version`;\n",
       "      return (VEGA_DEBUG[key] == version) ?\n",
       "        Promise.resolve(paths[lib]) :\n",
       "        new Promise(function(resolve, reject) {\n",
       "          var s = document.createElement('script');\n",
       "          document.getElementsByTagName(\"head\")[0].appendChild(s);\n",
       "          s.async = true;\n",
       "          s.onload = () => {\n",
       "            VEGA_DEBUG[key] = version;\n",
       "            return resolve(paths[lib]);\n",
       "          };\n",
       "          s.onerror = () => reject(`Error loading script: ${paths[lib]}`);\n",
       "          s.src = paths[lib];\n",
       "        });\n",
       "    }\n",
       "\n",
       "    function showError(err) {\n",
       "      outputDiv.innerHTML = `<div class=\"error\" style=\"color:red;\">${err}</div>`;\n",
       "      throw err;\n",
       "    }\n",
       "\n",
       "    function displayChart(vegaEmbed) {\n",
       "      vegaEmbed(outputDiv, spec, embedOpt)\n",
       "        .catch(err => showError(`Javascript Error: ${err.message}<br>This usually means there's a typo in your chart specification. See the javascript console for the full traceback.`));\n",
       "    }\n",
       "\n",
       "    if(typeof define === \"function\" && define.amd) {\n",
       "      requirejs.config({paths});\n",
       "      require([\"vega-embed\"], displayChart, err => showError(`Error loading script: ${err.message}`));\n",
       "    } else {\n",
       "      maybeLoadScript(\"vega\", \"5\")\n",
       "        .then(() => maybeLoadScript(\"vega-lite\", \"5.20.1\"))\n",
       "        .then(() => maybeLoadScript(\"vega-embed\", \"6\"))\n",
       "        .catch(showError)\n",
       "        .then(() => displayChart(vegaEmbed));\n",
       "    }\n",
       "  })({\"config\": {\"view\": {\"continuousWidth\": 300, \"continuousHeight\": 300}}, \"data\": {\"name\": \"data-d0e5ba5ff74763ec54e2b66f84543880\"}, \"mark\": {\"type\": \"line\"}, \"encoding\": {\"x\": {\"field\": \"param_hashingvectorizer__n_features\", \"type\": \"quantitative\"}, \"y\": {\"field\": \"mean_test_score\", \"type\": \"quantitative\"}}, \"params\": [{\"name\": \"param_10\", \"select\": {\"type\": \"interval\", \"encodings\": [\"x\", \"y\"]}, \"bind\": \"scales\"}], \"$schema\": \"https://vega.github.io/schema/vega-lite/v5.20.1.json\", \"datasets\": {\"data-d0e5ba5ff74763ec54e2b66f84543880\": [{\"mean_fit_time\": 3.0048834800720217, \"std_fit_time\": 0.16168044428895428, \"mean_score_time\": 0.4530362606048584, \"std_score_time\": 0.03979999716208741, \"param_hashingvectorizer__n_features\": 100, \"params\": {\"hashingvectorizer__n_features\": 100}, \"split0_test_score\": 0.3733981440565621, \"split1_test_score\": 0.39019001325673885, \"split2_test_score\": 0.38400353513035795, \"split3_test_score\": 0.38577110030932393, \"split4_test_score\": 0.400972590627763, \"mean_test_score\": 0.38686707667614917, \"std_test_score\": 0.008953441926431235, \"rank_test_score\": 7}, {\"mean_fit_time\": 3.4430724143981934, \"std_fit_time\": 0.30519462348335336, \"mean_score_time\": 0.3816981315612793, \"std_score_time\": 0.09061505834082784, \"param_hashingvectorizer__n_features\": 200, \"params\": {\"hashingvectorizer__n_features\": 200}, \"split0_test_score\": 0.5072912063632347, \"split1_test_score\": 0.5064074237737517, \"split2_test_score\": 0.5046398585947857, \"split3_test_score\": 0.49977905435262926, \"split4_test_score\": 0.4960212201591512, \"mean_test_score\": 0.5028277526487105, \"std_test_score\": 0.004281206330391224, \"rank_test_score\": 6}, {\"mean_fit_time\": 3.6650107383728026, \"std_fit_time\": 0.17491300374477606, \"mean_score_time\": 0.43416767120361327, \"std_score_time\": 0.08469429937723282, \"param_hashingvectorizer__n_features\": 500, \"params\": {\"hashingvectorizer__n_features\": 500}, \"split0_test_score\": 0.6226248342907644, \"split1_test_score\": 0.6363234644277508, \"split2_test_score\": 0.6336721166593018, \"split3_test_score\": 0.6341140079540433, \"split4_test_score\": 0.6379310344827587, \"mean_test_score\": 0.6329330915629239, \"std_test_score\": 0.005379125415853406, \"rank_test_score\": 5}, {\"mean_fit_time\": 5.10863184928894, \"std_fit_time\": 0.5816976752873988, \"mean_score_time\": 0.5349119663238525, \"std_score_time\": 0.10972107260503672, \"param_hashingvectorizer__n_features\": 1000, \"params\": {\"hashingvectorizer__n_features\": 1000}, \"split0_test_score\": 0.7057003977021653, \"split1_test_score\": 0.7052585064074238, \"split2_test_score\": 0.7030490499337163, \"split3_test_score\": 0.7211665930181176, \"split4_test_score\": 0.7166224580017684, \"mean_test_score\": 0.7103594010126383, \"std_test_score\": 0.007172000451896067, \"rank_test_score\": 4}, {\"mean_fit_time\": 6.5600324153900145, \"std_fit_time\": 0.2537114645273785, \"mean_score_time\": 0.46588621139526365, \"std_score_time\": 0.10734883961780549, \"param_hashingvectorizer__n_features\": 2000, \"params\": {\"hashingvectorizer__n_features\": 2000}, \"split0_test_score\": 0.7498895271763146, \"split1_test_score\": 0.7441449403446753, \"split2_test_score\": 0.7481219619973487, \"split3_test_score\": 0.75740167918692, \"split4_test_score\": 0.7546419098143236, \"mean_test_score\": 0.7508400037039165, \"std_test_score\": 0.00470372416174713, \"rank_test_score\": 3}, {\"mean_fit_time\": 7.775650930404663, \"std_fit_time\": 0.4189432395089827, \"mean_score_time\": 0.6207165718078613, \"std_score_time\": 0.06976265796031601, \"param_hashingvectorizer__n_features\": 5000, \"params\": {\"hashingvectorizer__n_features\": 5000}, \"split0_test_score\": 0.7803800265134777, \"split1_test_score\": 0.7764030048608043, \"split2_test_score\": 0.7719840919133893, \"split3_test_score\": 0.7737516570923553, \"split4_test_score\": 0.7860300618921309, \"mean_test_score\": 0.7777097684544316, \"std_test_score\": 0.00503021290778415, \"rank_test_score\": 2}, {\"mean_fit_time\": 8.763382005691529, \"std_fit_time\": 1.1125599962859751, \"mean_score_time\": 0.3625479221343994, \"std_score_time\": 0.09304569502317182, \"param_hashingvectorizer__n_features\": 10000, \"params\": {\"hashingvectorizer__n_features\": 10000}, \"split0_test_score\": 0.7830313742819266, \"split1_test_score\": 0.790543526292532, \"split2_test_score\": 0.7847989394608926, \"split3_test_score\": 0.7865665046398586, \"split4_test_score\": 0.7900088417329797, \"mean_test_score\": 0.7869898372816378, \"std_test_score\": 0.002911761204837948, \"rank_test_score\": 1}]}}, {\"mode\": \"vega-lite\"});\n",
       "</script>"
      ],
      "text/plain": [
       "alt.Chart(...)"
      ]
     },
     "execution_count": 145,
     "metadata": {},
     "output_type": "execute_result"
    }
   ],
   "source": [
    "p"
   ]
  },
  {
   "cell_type": "code",
   "execution_count": 140,
   "id": "928aa370-fd92-44f3-8aad-6e49ace9f344",
   "metadata": {},
   "outputs": [
    {
     "data": {
      "text/plain": [
       "0.7869898372816378"
      ]
     },
     "execution_count": 140,
     "metadata": {},
     "output_type": "execute_result"
    }
   ],
   "source": [
    "cv.cv_results_[\"mean_test_score\"].max()"
   ]
  },
  {
   "cell_type": "code",
   "execution_count": 143,
   "id": "5e106581-0e04-4016-bd54-72ac7785473f",
   "metadata": {},
   "outputs": [],
   "source": [
    "from sklearn.feature_extraction.text import CountVectorizer\n",
    "\n",
    "pipe_cv = make_pipeline(\n",
    "    CountVectorizer(ngram_range=(1, 1), analyzer=\"word\"),\n",
    "    LogisticRegression(max_iter=1000)\n",
    ")\n",
    "\n",
    "cv = GridSearchCV(pipe_cv, {}, n_jobs=-1).fit(X, y)"
   ]
  },
  {
   "cell_type": "code",
   "execution_count": 144,
   "id": "6422cc08-4738-4e08-b473-e6f17b35d67d",
   "metadata": {},
   "outputs": [
    {
     "data": {
      "text/plain": [
       "{'mean_fit_time': array([152.79486814]),\n",
       " 'std_fit_time': array([5.28290112]),\n",
       " 'mean_score_time': array([0.35974722]),\n",
       " 'std_score_time': array([0.08333041]),\n",
       " 'params': [{}],\n",
       " 'split0_test_score': array([0.87185152]),\n",
       " 'split1_test_score': array([0.88024746]),\n",
       " 'split2_test_score': array([0.87759611]),\n",
       " 'split3_test_score': array([0.87980557]),\n",
       " 'split4_test_score': array([0.88240495]),\n",
       " 'mean_test_score': array([0.87838112]),\n",
       " 'std_test_score': array([0.00360431]),\n",
       " 'rank_test_score': array([1], dtype=int32)}"
      ]
     },
     "execution_count": 144,
     "metadata": {},
     "output_type": "execute_result"
    }
   ],
   "source": [
    "cv.cv_results_"
   ]
  },
  {
   "cell_type": "code",
   "execution_count": 136,
   "id": "0ff4d3d9-1857-4cfe-892c-442adcedf969",
   "metadata": {},
   "outputs": [
    {
     "data": {
      "text/plain": [
       "130107"
      ]
     },
     "execution_count": 136,
     "metadata": {},
     "output_type": "execute_result"
    }
   ],
   "source": [
    "len(cv.best_estimator_.steps[0][1].vocabulary_)"
   ]
  },
  {
   "cell_type": "markdown",
   "id": "122a2e4a-93c7-46a5-9861-4ca047a863a9",
   "metadata": {},
   "source": [
    "## MinHash"
   ]
  },
  {
   "cell_type": "code",
   "execution_count": 17,
   "id": "b2db9d73-fa53-446b-b843-a1e084318f92",
   "metadata": {},
   "outputs": [],
   "source": [
    "from skrub import MinHashEncoder\n",
    "from skrub.datasets import fetch_employee_salaries\n",
    "import polars as pl\n",
    "\n",
    "dataset = fetch_employee_salaries()\n",
    "\n",
    "enc = MinHashEncoder(n_components=2)"
   ]
  },
  {
   "cell_type": "code",
   "execution_count": 28,
   "id": "a9cff05a-bc19-474d-8afe-2821437712f4",
   "metadata": {},
   "outputs": [],
   "source": [
    "uniq_names = pl.DataFrame({\"employee_position_title\": dataset.X[\"employee_position_title\"].unique()})[\"employee_position_title\"]"
   ]
  },
  {
   "cell_type": "code",
   "execution_count": 29,
   "id": "01e4061c-cec3-464e-a858-694b352c8ba2",
   "metadata": {},
   "outputs": [],
   "source": [
    "X_plot = enc.fit_transform(uniq_names)"
   ]
  },
  {
   "cell_type": "code",
   "execution_count": 30,
   "id": "d78cafbb-e281-49f0-aa17-264ce30786e9",
   "metadata": {},
   "outputs": [
    {
     "data": {
      "text/html": [
       "<div><style>\n",
       ".dataframe > thead > tr,\n",
       ".dataframe > tbody > tr {\n",
       "  text-align: right;\n",
       "  white-space: pre-wrap;\n",
       "}\n",
       "</style>\n",
       "<small>shape: (5, 2)</small><table border=\"1\" class=\"dataframe\"><thead><tr><th>employee_position_title_0</th><th>employee_position_title_1</th></tr><tr><td>f32</td><td>f32</td></tr></thead><tbody><tr><td>-2.1265e9</td><td>-2.1434e9</td></tr><tr><td>-2.0988e9</td><td>-2.1105e9</td></tr><tr><td>-2.0854e9</td><td>-2.0863e9</td></tr><tr><td>-2.1102e9</td><td>-2.0663e9</td></tr><tr><td>-2.1353e9</td><td>-2.1432e9</td></tr></tbody></table></div>"
      ],
      "text/plain": [
       "shape: (5, 2)\n",
       "┌───────────────────────────┬───────────────────────────┐\n",
       "│ employee_position_title_0 ┆ employee_position_title_1 │\n",
       "│ ---                       ┆ ---                       │\n",
       "│ f32                       ┆ f32                       │\n",
       "╞═══════════════════════════╪═══════════════════════════╡\n",
       "│ -2.1265e9                 ┆ -2.1434e9                 │\n",
       "│ -2.0988e9                 ┆ -2.1105e9                 │\n",
       "│ -2.0854e9                 ┆ -2.0863e9                 │\n",
       "│ -2.1102e9                 ┆ -2.0663e9                 │\n",
       "│ -2.1353e9                 ┆ -2.1432e9                 │\n",
       "└───────────────────────────┴───────────────────────────┘"
      ]
     },
     "execution_count": 30,
     "metadata": {},
     "output_type": "execute_result"
    }
   ],
   "source": [
    "X_plot.head()"
   ]
  },
  {
   "cell_type": "code",
   "execution_count": 31,
   "id": "a9c3e850-4153-4b94-9d4c-399d1b919bd5",
   "metadata": {},
   "outputs": [],
   "source": [
    "def encode(string): \n",
    "    dataf = pl.DataFrame({\"employee_position_title\": [string]})\n",
    "    return enc.transform(dataf[\"employee_position_title\"])"
   ]
  },
  {
   "cell_type": "code",
   "execution_count": 43,
   "id": "84d622a7-69ed-4a61-8b4a-c6019da4fc9e",
   "metadata": {},
   "outputs": [
    {
     "data": {
      "image/png": "[encoded data removed]",
      "text/plain": [
       "<Figure size 640x480 with 1 Axes>"
      ]
     },
     "metadata": {},
     "output_type": "display_data"
    }
   ],
   "source": [
    "import matplotlib.pylab as plt\n",
    "plt.scatter(X_plot[\"employee_position_title_0\"], X_plot[\"employee_position_title_1\"], s=2, color='gray')\n",
    "plt.xlabel(\"minhash 1\")\n",
    "plt.ylabel(\"minhash 2\")\n",
    "# plt.xlim(None, -1.977e09)\n",
    "# plt.ylim(None, -1.477e09)\n",
    "\n",
    "combos = [\n",
    "    (\"Senior Supply Engineer\", \"green\"),\n",
    "    (\"Supply\", \"orange\"),\n",
    "    (\"Senior\", \"red\"),\n",
    "    (\"Engineer\", \"blue\"),\n",
    "]\n",
    "for title, color in combos:\n",
    "    x = encode(title)\n",
    "    plt.scatter(x[\"employee_position_title_0\"], x[\"employee_position_title_1\"], s=25, color=color)\n",
    "    plt.vlines(x[\"employee_position_title_0\"], \n",
    "               X_plot[\"employee_position_title_1\"].min() * 1.1, \n",
    "               x[\"employee_position_title_1\"], \n",
    "               color=color)\n",
    "    plt.hlines(x[\"employee_position_title_1\"], \n",
    "               X_plot[\"employee_position_title_0\"].min() * 1.1, \n",
    "               x[\"employee_position_title_0\"], \n",
    "               color=color)\n",
    "    plt.text(x[\"employee_position_title_0\"][0], \n",
    "             x[\"employee_position_title_1\"][0],\n",
    "             title)"
   ]
  },
  {
   "cell_type": "code",
   "execution_count": 47,
   "id": "da34dc23-2649-454a-b412-1e013ae268fe",
   "metadata": {},
   "outputs": [],
   "source": [
    "from sklearn.pipeline import Pipeline\n",
    "from sklearn.model_selection import GridSearchCV\n",
    "from sklearn.ensemble import HistGradientBoostingRegressor\n",
    "\n",
    "pipe_minhash = Pipeline([\n",
    "    (\"encoder\", MinHashEncoder(n_components=100)),\n",
    "    (\"estimator\", HistGradientBoostingRegressor())\n",
    "])"
   ]
  },
  {
   "cell_type": "code",
   "execution_count": 48,
   "id": "9610bab7-f9ec-4773-ab54-8503421c36d5",
   "metadata": {},
   "outputs": [],
   "source": [
    "from sklearn.model_selection import cross_val_score\n",
    "\n",
    "def calc_score(name, pipeline, cv=5):\n",
    "    X = dataset.X[\"employee_position_title\"]\n",
    "    y = dataset.y\n",
    "    return cross_val_score(pipeline, X, y, cv=cv)"
   ]
  },
  {
   "cell_type": "code",
   "execution_count": 49,
   "id": "3d5d3f67-7bee-4c38-82c6-1a5b197e431d",
   "metadata": {},
   "outputs": [
    {
     "data": {
      "text/plain": [
       "0.8440624343279858"
      ]
     },
     "execution_count": 49,
     "metadata": {},
     "output_type": "execute_result"
    }
   ],
   "source": [
    "calc_score(\"minhash\", pipe_minhash).mean()"
   ]
  },
  {
   "cell_type": "code",
   "execution_count": null,
   "id": "afc368fa-de2b-4fd3-b3e3-9d7bf3a21c0f",
   "metadata": {},
   "outputs": [],
   "source": []
  }
 ],
 "metadata": {
  "kernelspec": {
   "display_name": "Python 3 (ipykernel)",
   "language": "python",
   "name": "python3"
  },
  "language_info": {
   "codemirror_mode": {
    "name": "ipython",
    "version": 3
   },
   "file_extension": ".py",
   "mimetype": "text/x-python",
   "name": "python",
   "nbconvert_exporter": "python",
   "pygments_lexer": "ipython3",
   "version": "3.11.6"
  }
 },
 "nbformat": 4,
 "nbformat_minor": 5
}
